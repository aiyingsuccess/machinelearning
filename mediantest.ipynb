{
 "cells": [
  {
   "cell_type": "code",
   "execution_count": 123,
   "metadata": {},
   "outputs": [
    {
     "name": "stdout",
     "output_type": "stream",
     "text": [
      "[1.0, 6.0, 0.0, 0.0, 0.0, 18.0, 1.0, 9.0, 0.0, 1.0, 0.0, 1.0, 1.0, 1.0, nan, 900000.0, 30000.0, 10000.0, nan, 1740.5, 3586.5, 2855.5, nan, 1740.5, 3586.5, 2855.5, 0.0, 3.16227766, 1.0, nan, 0.0, 1.0, 1.0, 0.0, 1.0, 1.0, 1.0, 9.0, nan, 1.0, 9.0, nan, 9.0, 0.0, 3.25, 0.0, 2.75, 1.0, 1.0, 1.0, 7.0, 1.0, 0.0, 5.5, 2.5, 5.5, 0.0, 1.0, nan, 1.0, nan, nan, nan, 900000.0, nan, 30000.0, nan, 10000.0, 72.0, 94.0, 0.360161458, nan, 0.0, 0.0, 0.0, 0.0, 11.0, 4.0, 4.0, 0.0, 0.0, 0.0, 0.0, 0.0, 0.0, 0.0, 0.0, 0.0, 0.0, 0.0, 0.0, nan, 3.16227766, 9.0, 4.0, 6.0, 9.0, 10.0, 0.0, nan, 18.0, nan, 1.0, 2.0, 0.0, 0.0, 1.0, 0.0, 1.0, 0.0, 1.0, 0.0, 0.0, 0.0, 1.0, 0.0, 1.0, 32810.0, 32832.0, 1.0, 1.0, nan, 4.0, 1.0, nan, 1.0, nan, nan, 1.0, 0.0, 9.0, nan, 1.0, 4.0, 3.0, 4.0, 4.0, 4.0, 1.0, 1.0, 0.0, 1.0, 2.0, 0.0]\n",
      "Got\n",
      "Got\n",
      "Got\n",
      "Got\n",
      "Got\n",
      "Got\n",
      "Got\n",
      "Got\n",
      "Got\n",
      "Got\n",
      "Got\n",
      "Got\n",
      "Got\n",
      "Got\n",
      "Got\n",
      "Got\n",
      "Got\n",
      "Got\n",
      "Got\n",
      "Got\n",
      "Got\n",
      "{0.0, 1.0, nan, nan, 3586.5, nan, 6.0, 3.16227766, nan, 9.0, nan, nan, 3.25, 2.75, 7.0, 2.5, 10000.0, 11.0, 18.0, 10.0, 2.0, 4.0, nan, 3.0, 5.5, nan, nan, nan, nan, 900000.0, nan, nan, nan, nan, nan, nan, 2855.5, nan, 32810.0, 30000.0, 32832.0, nan, nan, nan, 72.0, 1740.5, 94.0, 0.360161458}\n",
      "[6.0, 10.0, 12.0, 11.0, 13.0, nan, 14.0, 16.0, 8.0, 7.0, 5.0, 9.0, 2.0, 3.0, 15.0, 1.0]\n",
      "[                 0\n",
      "0         1.000000\n",
      "1         6.000000\n",
      "2         0.000000\n",
      "3         0.000000\n",
      "4         0.000000\n",
      "5        18.000000\n",
      "6         1.000000\n",
      "7         9.000000\n",
      "8         0.000000\n",
      "9         1.000000\n",
      "10        0.000000\n",
      "11        1.000000\n",
      "12        1.000000\n",
      "13        1.000000\n",
      "14             NaN\n",
      "15   900000.000000\n",
      "16    30000.000000\n",
      "17    10000.000000\n",
      "18             NaN\n",
      "19     1740.500000\n",
      "20     3586.500000\n",
      "21     2855.500000\n",
      "22             NaN\n",
      "23     1740.500000\n",
      "24     3586.500000\n",
      "25     2855.500000\n",
      "26        0.000000\n",
      "27        3.162278\n",
      "28        1.000000\n",
      "29             NaN\n",
      "..             ...\n",
      "114       1.000000\n",
      "115       0.000000\n",
      "116       1.000000\n",
      "117   32810.000000\n",
      "118   32832.000000\n",
      "119       1.000000\n",
      "120       1.000000\n",
      "121            NaN\n",
      "122       4.000000\n",
      "123       1.000000\n",
      "124            NaN\n",
      "125       1.000000\n",
      "126            NaN\n",
      "127            NaN\n",
      "128       1.000000\n",
      "129       0.000000\n",
      "130       9.000000\n",
      "131            NaN\n",
      "132       1.000000\n",
      "133       4.000000\n",
      "134       3.000000\n",
      "135       4.000000\n",
      "136       4.000000\n",
      "137       4.000000\n",
      "138       1.000000\n",
      "139       1.000000\n",
      "140       0.000000\n",
      "141       1.000000\n",
      "142       2.000000\n",
      "143       0.000000\n",
      "\n",
      "[144 rows x 1 columns]]\n"
     ]
    }
   ],
   "source": [
    "# For Python 2 / 3 compatability\n",
    "\n",
    "\n",
    "from __future__ import print_function\n",
    "from pandas import read_csv\n",
    "import math\n",
    "import numpy as np\n",
    "import pandas as pd\n",
    "\n",
    "import random\n",
    "import matplotlib.pyplot as plt\n",
    "dataset = read_csv('/home/aiying/Machinelearning/dataorigin.csv')\n",
    "# dt=dataset.values.tolist()\n",
    "# print(dt[0])\n",
    "# dataset.replace('N', np.NaN,inplace=True)\n",
    "# # dataset.fillna(1e-11,inplace=True)\n",
    "# dataset.to_csv('dataorigin.csv')\n",
    "# dataset2=read_csv('dataorigin.csv')\n",
    "# # ,dtype=np.float64\n",
    "ds=dataset.values.tolist()\n",
    "print(ds[0])\n",
    "for i in ds[0]:\n",
    "    if math.isnan(i):\n",
    "        print('Got')\n",
    "        \n",
    "print(set(list(ds[0])))       \n",
    "print(list(pd.unique(dataset['exprace'])))   \n",
    "\n",
    "ds[0]=pd.DataFrame(ds[0]) \n",
    "L=[]\n",
    "L.append(ds[0])\n",
    "print(L)\n"
   ]
  },
  {
   "cell_type": "code",
   "execution_count": 15,
   "metadata": {},
   "outputs": [],
   "source": [
    "from __future__ import print_function\n",
    "from pandas import read_csv\n",
    "\n",
    "import math\n",
    "import numpy as np\n",
    "import pandas as pd\n",
    "\n",
    "import random\n",
    "import matplotlib.pyplot as plt\n",
    "dataset = read_csv('/home/aiying/Machinelearning/dataorigin.csv')\n",
    "\n",
    "headers = list(dataset)\n",
    "ds=dataset.values.tolist()              \n",
    "\n",
    "modset=[]\n",
    "modframe=[]\n",
    "modframelen=[]\n",
    "testcolumnset=[]\n",
    "colvalues=[]\n",
    "\n",
    "for i in range(len(headers)):\n",
    "   indexnames = dataset['exprace'].index[dataset['exprace'].apply(np.isnan)]\n",
    "#     if len(indexNames)==0:\n",
    "#         continue\n",
    "#     newds=dataset.drop(indexNames)\n",
    "#     lds=newds.values.tolist()\n",
    "#     modset.append(lds)\n",
    "#     modframe.append(newds)\n",
    "#     modframelen.append(len(newds))\n",
    "#     testcolumnset.append(i)\n",
    "# print('sum of columns have missing data', len(modframe))\n",
    "# print('shortest column',min(modframelen))\n"
   ]
  },
  {
   "cell_type": "code",
   "execution_count": 16,
   "metadata": {},
   "outputs": [
    {
     "data": {
      "text/plain": [
       "nan"
      ]
     },
     "execution_count": 16,
     "metadata": {},
     "output_type": "execute_result"
    }
   ],
   "source": [
    "dataset['exprace'][303]"
   ]
  },
  {
   "cell_type": "code",
   "execution_count": 17,
   "metadata": {},
   "outputs": [
    {
     "data": {
      "text/plain": [
       "3399"
      ]
     },
     "execution_count": 17,
     "metadata": {},
     "output_type": "execute_result"
    }
   ],
   "source": [
    "len(indexnames)"
   ]
  },
  {
   "cell_type": "code",
   "execution_count": null,
   "metadata": {},
   "outputs": [],
   "source": []
  }
 ],
 "metadata": {
  "kernelspec": {
   "display_name": "Python 3",
   "language": "python",
   "name": "python3"
  },
  "language_info": {
   "codemirror_mode": {
    "name": "ipython",
    "version": 3
   },
   "file_extension": ".py",
   "mimetype": "text/x-python",
   "name": "python",
   "nbconvert_exporter": "python",
   "pygments_lexer": "ipython3",
   "version": "3.7.3"
  }
 },
 "nbformat": 4,
 "nbformat_minor": 2
}
