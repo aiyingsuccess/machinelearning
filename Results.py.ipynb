{
 "cells": [
  {
   "cell_type": "code",
   "execution_count": 39,
   "metadata": {},
   "outputs": [
    {
     "name": "stdout",
     "output_type": "stream",
     "text": [
      "sum of columns have missing data 144\n",
      "shortest column 4976\n"
     ]
    }
   ],
   "source": [
    "from __future__ import print_function\n",
    "from pandas import read_csv\n",
    "\n",
    "import random \n",
    "import math\n",
    "import numpy as np\n",
    "import pandas as pd\n",
    "\n",
    "from random import randint\n",
    "import matplotlib.pyplot as plt\n",
    "dataset = read_csv('/home/aiying/Machinelearning/dataorigin.csv')\n",
    "\n",
    "headers=list(dataset)\n",
    "ds=dataset.values.tolist()  \n",
    "nset=[]\n",
    "\n",
    "for i in headers:\n",
    "    indexNames = dataset[i].index[dataset[i].apply(np.isnan)]\n",
    "    if len(indexNames)==0:\n",
    "         continue\n",
    "    set=[]   \n",
    "    for i in list(indexNames):\n",
    "        set.append(ds[i])\n",
    "    nset.append(set)   \n",
    "\n",
    "\n",
    "limit=int(144/5)\n",
    "validrow=[]\n",
    "rowsum=list(dataset.isnull().sum(axis=1))\n",
    "for i in range(len(rowsum)):\n",
    "    if rowsum[i]<limit:\n",
    "        validrow.append(i)    \n",
    "\n",
    "validds=[]\n",
    "for i in validrow:\n",
    "    validds.append(ds[i])    \n",
    "\n",
    "\n",
    "order=[]\n",
    "for i in range(41):\n",
    "    order=order+random.sample(range(0,144), 144)    \n",
    "\n",
    "    n=0\n",
    "for row in validds[0:len(validds)]:\n",
    "    while math.isnan(row[order[n]]):\n",
    "        order[n]=(order[n]+1)%144\n",
    "    row[order[n]]=np.NaN  \n",
    "    validds.append(row)\n",
    "    n=n+1\n",
    "\n",
    "validdataset=pd.DataFrame(validds)\n",
    "\n",
    "headers = list(validdataset)\n",
    "ds=validdataset.values.tolist()              \n",
    " \n",
    "modset=[]\n",
    "modframe=[]\n",
    "modframelen=[]\n",
    "testcolumnameset=[]\n",
    "testcolumnset=[]\n",
    "\n",
    "j=-1\n",
    "for i in headers:\n",
    "     j=j+1\n",
    "     indexNames = validdataset[i].index[validdataset[i].apply(np.isnan)]\n",
    "     if len(indexNames)==0:\n",
    "         continue\n",
    "     newds=validdataset.drop(indexNames)\n",
    "     modframe.append(newds)\n",
    "     lnewds=newds.values.tolist()\n",
    "     modset.append(lnewds)\n",
    "     modframelen.append(len(lnewds))\n",
    "     testcolumnameset.append(i)\n",
    "     testcolumnset.append(j)\n",
    "print('sum of columns have missing data', len(modset))\n",
    "print('shortest column',min(modframelen))\n"
   ]
  },
  {
   "cell_type": "code",
   "execution_count": 40,
   "metadata": {},
   "outputs": [
    {
     "data": {
      "text/plain": [
       "3403"
      ]
     },
     "execution_count": 40,
     "metadata": {},
     "output_type": "execute_result"
    }
   ],
   "source": [
    "len(nset[0])"
   ]
  },
  {
   "cell_type": "code",
   "execution_count": null,
   "metadata": {},
   "outputs": [],
   "source": []
  }
 ],
 "metadata": {
  "kernelspec": {
   "display_name": "Python 3",
   "language": "python",
   "name": "python3"
  },
  "language_info": {
   "codemirror_mode": {
    "name": "ipython",
    "version": 3
   },
   "file_extension": ".py",
   "mimetype": "text/x-python",
   "name": "python",
   "nbconvert_exporter": "python",
   "pygments_lexer": "ipython3",
   "version": "3.7.3"
  }
 },
 "nbformat": 4,
 "nbformat_minor": 2
}
