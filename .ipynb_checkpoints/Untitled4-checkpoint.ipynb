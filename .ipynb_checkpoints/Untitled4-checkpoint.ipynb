{
 "cells": [
  {
   "cell_type": "code",
   "execution_count": 1,
   "metadata": {},
   "outputs": [
    {
     "name": "stdout",
     "output_type": "stream",
     "text": [
      "sum of columns have missing data 92\n",
      "shortest column 2586\n"
     ]
    },
    {
     "ename": "TypeError",
     "evalue": "randint() missing 1 required positional argument: 'b'",
     "output_type": "error",
     "traceback": [
      "\u001b[0;31m---------------------------------------------------------------------------\u001b[0m",
      "\u001b[0;31mTypeError\u001b[0m                                 Traceback (most recent call last)",
      "\u001b[0;32m<ipython-input-1-4e955ea2399f>\u001b[0m in \u001b[0;36m<module>\u001b[0;34m\u001b[0m\n\u001b[1;32m     37\u001b[0m \u001b[0;32mfor\u001b[0m \u001b[0mperset\u001b[0m \u001b[0;32min\u001b[0m \u001b[0mmodset\u001b[0m\u001b[0;34m:\u001b[0m\u001b[0;34m\u001b[0m\u001b[0;34m\u001b[0m\u001b[0m\n\u001b[1;32m     38\u001b[0m     \u001b[0;32mif\u001b[0m \u001b[0mlen\u001b[0m\u001b[0;34m(\u001b[0m\u001b[0mperset\u001b[0m\u001b[0;34m)\u001b[0m\u001b[0;34m<=\u001b[0m\u001b[0;36m6000\u001b[0m\u001b[0;34m:\u001b[0m\u001b[0;34m\u001b[0m\u001b[0;34m\u001b[0m\u001b[0m\n\u001b[0;32m---> 39\u001b[0;31m         \u001b[0mrandint\u001b[0m\u001b[0;34m(\u001b[0m\u001b[0;36m0\u001b[0m\u001b[0;34m,\u001b[0m\u001b[0;34m)\u001b[0m\u001b[0;34m\u001b[0m\u001b[0;34m\u001b[0m\u001b[0m\n\u001b[0m",
      "\u001b[0;31mTypeError\u001b[0m: randint() missing 1 required positional argument: 'b'"
     ]
    }
   ],
   "source": [
    "from __future__ import print_function\n",
    "from pandas import read_csv\n",
    "\n",
    "import math\n",
    "import numpy as np\n",
    "import pandas as pd\n",
    "\n",
    "from random import randint\n",
    "import matplotlib.pyplot as plt\n",
    "dataset = read_csv('/home/aiying/Machinelearning/dataorigin.csv')\n",
    "\n",
    "headers = list(dataset)\n",
    "ds=dataset.values.tolist()              \n",
    "\n",
    "modset=[]\n",
    "modframe=[]\n",
    "modframelen=[]\n",
    "testcolumnameset=[]\n",
    "testcolumnset=[]\n",
    "j=-1\n",
    "for i in headers:\n",
    "    j=j+1\n",
    "    indexNames = dataset[i].index[dataset[i].apply(np.isnan)]\n",
    "    if len(indexNames)==0:\n",
    "        continue\n",
    "    newds=dataset.drop(indexNames)\n",
    "    modframe.append(newds)\n",
    "    lnewds=newds.values.tolist()\n",
    "    modset.append(lnewds)\n",
    "    modframelen.append(len(lnewds))\n",
    "    testcolumnameset.append(i)\n",
    "    testcolumnset.append(j)\n",
    "print('sum of columns have missing data', len(modset))\n",
    "print('shortest column',min(modframelen))\n",
    "\n",
    "\n",
    "# for perset in modset:\n",
    "#     if len(perset)<=6000:\n",
    "        randint(0,9)"
   ]
  },
  {
   "cell_type": "code",
   "execution_count": null,
   "metadata": {},
   "outputs": [],
   "source": []
  }
 ],
 "metadata": {
  "kernelspec": {
   "display_name": "Python 3",
   "language": "python",
   "name": "python3"
  },
  "language_info": {
   "codemirror_mode": {
    "name": "ipython",
    "version": 3
   },
   "file_extension": ".py",
   "mimetype": "text/x-python",
   "name": "python",
   "nbconvert_exporter": "python",
   "pygments_lexer": "ipython3",
   "version": "3.7.3"
  }
 },
 "nbformat": 4,
 "nbformat_minor": 2
}
