{
 "cells": [
  {
   "cell_type": "code",
   "execution_count": 112,
   "metadata": {},
   "outputs": [
    {
     "name": "stdout",
     "output_type": "stream",
     "text": [
      "sum of columns have missing data 92\n",
      "shortest column 2586\n"
     ]
    }
   ],
   "source": [
    "from __future__ import print_function\n",
    "from pandas import read_csv\n",
    "\n",
    "import math\n",
    "import numpy as np\n",
    "import pandas as pd\n",
    "\n",
    "from random import randint\n",
    "import matplotlib.pyplot as plt\n",
    "dataset = read_csv('/home/aiying/Machinelearning/dataorigin.csv')\n",
    "\n",
    "headers = list(dataset)\n",
    "ds=dataset.values.tolist()              \n",
    "\n",
    "modset=[]\n",
    "modframe=[]\n",
    "modframelen=[]\n",
    "testcolumnameset=[]\n",
    "testcolumnset=[]\n",
    "j=-1\n",
    "for i in headers:\n",
    "    j=j+1\n",
    "    indexNames = dataset[i].index[dataset[i].apply(np.isnan)]\n",
    "    if len(indexNames)==0:\n",
    "        continue\n",
    "    newds=dataset.drop(indexNames)\n",
    "    modframe.append(newds)\n",
    "    lnewds=newds.values.tolist()\n",
    "    modset.append(lnewds)\n",
    "    modframelen.append(len(lnewds))\n",
    "    testcolumnameset.append(i)\n",
    "    testcolumnset.append(j)\n",
    "print('sum of columns have missing data', len(modset))\n",
    "print('shortest column',min(modframelen))\n"
   ]
  },
  {
   "cell_type": "code",
   "execution_count": 100,
   "metadata": {},
   "outputs": [],
   "source": [
    "limit=int(144/5)\n",
    "validrow=[]\n",
    "rowsum=list(dataset.isnull().sum(axis=1))\n",
    "for i in range(len(rowsum)):\n",
    "    if rowsum[i]<limit:\n",
    "        validrow.append(i)    "
   ]
  },
  {
   "cell_type": "code",
   "execution_count": 76,
   "metadata": {},
   "outputs": [
    {
     "data": {
      "text/plain": [
       "5874"
      ]
     },
     "execution_count": 76,
     "metadata": {},
     "output_type": "execute_result"
    }
   ],
   "source": [
    "len(validrow)"
   ]
  },
  {
   "cell_type": "code",
   "execution_count": 101,
   "metadata": {},
   "outputs": [],
   "source": [
    "validds=[]\n",
    "for i in validrow:\n",
    "    validds.append(ds[i])    "
   ]
  },
  {
   "cell_type": "code",
   "execution_count": 103,
   "metadata": {},
   "outputs": [],
   "source": [
    "import random \n",
    "\n",
    "order=[]\n",
    "for i in range(41):\n",
    "    order=order+random.sample(range(0,144), 144)    \n",
    "\n",
    "    n=0\n",
    "for row in validds[0:len(validds)]:\n",
    "    while math.isnan(row[order[n]]):\n",
    "        order[n]=(order[n]+1)%144\n",
    "    row[order[n]]=np.NaN  \n",
    "    validds.append(row)\n",
    "    n=n+1"
   ]
  },
  {
   "cell_type": "code",
   "execution_count": 106,
   "metadata": {},
   "outputs": [],
   "source": [
    "validdataset=pd.DataFrame(validds)"
   ]
  },
  {
   "cell_type": "code",
   "execution_count": 107,
   "metadata": {},
   "outputs": [
    {
     "data": {
      "text/plain": [
       "[0,\n",
       " 1,\n",
       " 2,\n",
       " 3,\n",
       " 4,\n",
       " 5,\n",
       " 6,\n",
       " 7,\n",
       " 8,\n",
       " 9,\n",
       " 10,\n",
       " 11,\n",
       " 12,\n",
       " 13,\n",
       " 14,\n",
       " 15,\n",
       " 16,\n",
       " 17,\n",
       " 18,\n",
       " 19,\n",
       " 20,\n",
       " 21,\n",
       " 22,\n",
       " 23,\n",
       " 24,\n",
       " 25,\n",
       " 26,\n",
       " 27,\n",
       " 28,\n",
       " 29,\n",
       " 30,\n",
       " 31,\n",
       " 32,\n",
       " 33,\n",
       " 34,\n",
       " 35,\n",
       " 36,\n",
       " 37,\n",
       " 38,\n",
       " 39,\n",
       " 40,\n",
       " 41,\n",
       " 42,\n",
       " 43,\n",
       " 44,\n",
       " 45,\n",
       " 46,\n",
       " 47,\n",
       " 48,\n",
       " 49,\n",
       " 50,\n",
       " 51,\n",
       " 52,\n",
       " 53,\n",
       " 54,\n",
       " 55,\n",
       " 56,\n",
       " 57,\n",
       " 58,\n",
       " 59,\n",
       " 60,\n",
       " 61,\n",
       " 62,\n",
       " 63,\n",
       " 64,\n",
       " 65,\n",
       " 66,\n",
       " 67,\n",
       " 68,\n",
       " 69,\n",
       " 70,\n",
       " 71,\n",
       " 72,\n",
       " 73,\n",
       " 74,\n",
       " 75,\n",
       " 76,\n",
       " 77,\n",
       " 78,\n",
       " 79,\n",
       " 80,\n",
       " 81,\n",
       " 82,\n",
       " 83,\n",
       " 84,\n",
       " 85,\n",
       " 86,\n",
       " 87,\n",
       " 88,\n",
       " 89,\n",
       " 90,\n",
       " 91,\n",
       " 92,\n",
       " 93,\n",
       " 94,\n",
       " 95,\n",
       " 96,\n",
       " 97,\n",
       " 98,\n",
       " 99,\n",
       " 100,\n",
       " 101,\n",
       " 102,\n",
       " 103,\n",
       " 104,\n",
       " 105,\n",
       " 106,\n",
       " 107,\n",
       " 108,\n",
       " 109,\n",
       " 110,\n",
       " 111,\n",
       " 112,\n",
       " 113,\n",
       " 114,\n",
       " 115,\n",
       " 116,\n",
       " 117,\n",
       " 118,\n",
       " 119,\n",
       " 120,\n",
       " 121,\n",
       " 122,\n",
       " 123,\n",
       " 124,\n",
       " 125,\n",
       " 126,\n",
       " 127,\n",
       " 128,\n",
       " 129,\n",
       " 130,\n",
       " 131,\n",
       " 132,\n",
       " 133,\n",
       " 134,\n",
       " 135,\n",
       " 136,\n",
       " 137,\n",
       " 138,\n",
       " 139,\n",
       " 140,\n",
       " 141,\n",
       " 142,\n",
       " 143]"
      ]
     },
     "execution_count": 107,
     "metadata": {},
     "output_type": "execute_result"
    }
   ],
   "source": [
    "list(validdataset)"
   ]
  },
  {
   "cell_type": "code",
   "execution_count": 120,
   "metadata": {},
   "outputs": [
    {
     "name": "stdout",
     "output_type": "stream",
     "text": [
      "sum of columns have missing data 144\n",
      "shortest column 4980\n"
     ]
    }
   ],
   "source": [
    "headers = list(validdataset)\n",
    "ds=validdataset.values.tolist()              \n",
    " \n",
    "modset=[]\n",
    "modframe=[]\n",
    "modframelen=[]\n",
    "testcolumnameset=[]\n",
    "testcolumnset=[]\n",
    "j=-1\n",
    "for i in headers:\n",
    "     j=j+1\n",
    "     indexNames = validdataset[i].index[validdataset[i].apply(np.isnan)]\n",
    "     if len(indexNames)==0:\n",
    "         continue\n",
    "     newds=validdataset.drop(indexNames)\n",
    "     modframe.append(newds)\n",
    "     lnewds=newds.values.tolist()\n",
    "     modset.append(lnewds)\n",
    "     modframelen.append(len(lnewds))\n",
    "     testcolumnameset.append(i)\n",
    "     testcolumnset.append(j)\n",
    "print('sum of columns have missing data', len(modset))\n",
    "print('shortest column',min(modframelen))\n"
   ]
  },
  {
   "cell_type": "code",
   "execution_count": 118,
   "metadata": {},
   "outputs": [
    {
     "data": {
      "text/plain": [
       "5518"
      ]
     },
     "execution_count": 118,
     "metadata": {},
     "output_type": "execute_result"
    }
   ],
   "source": [
    "len(modset[0])"
   ]
  },
  {
   "cell_type": "code",
   "execution_count": null,
   "metadata": {},
   "outputs": [],
   "source": []
  }
 ],
 "metadata": {
  "kernelspec": {
   "display_name": "Python 3",
   "language": "python",
   "name": "python3"
  },
  "language_info": {
   "codemirror_mode": {
    "name": "ipython",
    "version": 3
   },
   "file_extension": ".py",
   "mimetype": "text/x-python",
   "name": "python",
   "nbconvert_exporter": "python",
   "pygments_lexer": "ipython3",
   "version": "3.7.3"
  }
 },
 "nbformat": 4,
 "nbformat_minor": 2
}
